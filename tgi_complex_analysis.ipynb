{
 "cells": [
  {
   "cell_type": "code",
   "execution_count": 2,
   "metadata": {},
   "outputs": [],
   "source": [
    "import numpy as np\n",
    "import pandas as pd\n",
    "import json\n",
    "import matplotlib.pyplot as plt\n",
    "import seaborn as sns\n",
    "import analysis.grouped_analysis as ga\n",
    "from collections import defaultdict\n",
    "import scipy.stats as stats\n",
    "import utils.eval_funcs as eval_funcs\n",
    "import numpy.random as rng\n",
    "import string"
   ]
  },
  {
   "cell_type": "code",
   "execution_count": 3,
   "metadata": {},
   "outputs": [],
   "source": [
    "ALPHABET = np.array(list(string.ascii_lowercase + ' '))\n",
    "\n",
    "\n",
    "def generate_guess(n):\n",
    "    return \"\".join(rng.choice(ALPHABET, size=n))\n",
    "\n",
    "plt.rcParams[\"font.family\"] = \"Liberation Serif\"\n",
    "plt.rcParams[\"font.weight\"] = \"bold\"\n",
    "plot_cfg = {\n",
    "    \"tick_label_size\" : 50,\n",
    "    \"xlabel_size\" : 60,\n",
    "    \"ylabel_size\" : 60,\n",
    "    \"border_size\" : 6,\n",
    "    \"bar_border_size\" : 2.5,\n",
    "    \"bar_label_size\" : 32,\n",
    "    \"stars_label_size\" : 48,\n",
    "    \"annot_size\" : 72,\n",
    "    \"max_cm_classes\" : 4,\n",
    "    \"legend_size\" : 42,\n",
    "    \"max_bars\" : 4\n",
    "}"
   ]
  },
  {
   "cell_type": "code",
   "execution_count": 4,
   "metadata": {},
   "outputs": [],
   "source": [
    "genes_to_complexes = ga.parse_yeast_complexes()\n",
    "genes_to_pathways =  ga.parse_kegg_pathways()"
   ]
  },
  {
   "cell_type": "code",
   "execution_count": 5,
   "metadata": {},
   "outputs": [],
   "source": [
    "genes_to_cp = defaultdict(lambda: { \"complexes\" : set(), \"pathways\" : set() })\n",
    "\n",
    "for k, v in genes_to_complexes.items():\n",
    "    genes_to_cp[k][\"complexes\"] = v \n",
    "        \n",
    "for k,v in genes_to_pathways.items():\n",
    "    genes_to_cp[k][\"pathways\"] = v "
   ]
  },
  {
   "cell_type": "code",
   "execution_count": 6,
   "metadata": {},
   "outputs": [],
   "source": [
    "group = 'complexes'\n",
    "\n",
    "genes_to_groups = genes_to_complexes if group == 'complexes' else genes_to_pathways\n",
    "all_groups = []\n",
    "for k, v in genes_to_groups.items():\n",
    "    all_groups.extend(v)\n",
    "        "
   ]
  },
  {
   "cell_type": "code",
   "execution_count": 7,
   "metadata": {},
   "outputs": [
    {
     "name": "stdout",
     "output_type": "stream",
     "text": [
      "No. groups:  408\n",
      "No. Genes associated with a group:  1627\n",
      "No. Genes associated with only one group:  1416\n",
      "No. Genes removed due to involvement in multiple groups:  211\n"
     ]
    }
   ],
   "source": [
    "n_groups = len(set(all_groups))\n",
    "print(\"No. groups: \", n_groups)\n",
    "n_assoc = len(genes_to_groups)\n",
    "print(\"No. Genes associated with a group: \", n_assoc)\n",
    "genes_to_group = { g: list(v)[0] for g,v in genes_to_groups.items() if len(v) == 1}\n",
    "n_one_pathway = len(genes_to_group)\n",
    "print(\"No. Genes associated with only one group: \", n_one_pathway)\n",
    "n_multiple_pathways = n_assoc - n_one_pathway\n",
    "print(\"No. Genes removed due to involvement in multiple groups: \", n_multiple_pathways)"
   ]
  },
  {
   "cell_type": "code",
   "execution_count": 8,
   "metadata": {},
   "outputs": [
    {
     "name": "stdout",
     "output_type": "stream",
     "text": [
      "2249\n",
      "(74463, 7)\n"
     ]
    }
   ],
   "source": [
    "tgi_task = pd.read_csv('../generated-data/task_yeast_tgi')\n",
    "all_task_genes = set(tgi_task['a']) | set(tgi_task['b']) | set(tgi_task['c'])\n",
    "for g in all_task_genes:\n",
    "    if g not in genes_to_group:\n",
    "        genes_to_group[g] = generate_guess(10)\n",
    "print(len(genes_to_group))\n",
    "print(tgi_task.shape)\n",
    "tgi_task['a_group'] = [genes_to_group[e] for e in tgi_task['a']]\n",
    "tgi_task['b_group'] = [genes_to_group[e] for e in tgi_task['b']]\n",
    "tgi_task['c_group'] = [genes_to_group[e] for e in tgi_task['c']]"
   ]
  },
  {
   "cell_type": "code",
   "execution_count": 9,
   "metadata": {},
   "outputs": [],
   "source": [
    "ix_all = tgi_task['a'].isin(genes_to_group) & tgi_task['b'].isin(genes_to_group) & tgi_task['c'].isin(genes_to_group)"
   ]
  },
  {
   "cell_type": "code",
   "execution_count": 10,
   "metadata": {},
   "outputs": [],
   "source": [
    "ix_two = (tgi_task['a'].isin(genes_to_group) & tgi_task['b'].isin(genes_to_group)) | (tgi_task['a'].isin(genes_to_group) & tgi_task['c'].isin(genes_to_group)) \\\n",
    "    | (tgi_task['b'].isin(genes_to_group) & tgi_task['c'].isin(genes_to_group))"
   ]
  },
  {
   "cell_type": "code",
   "execution_count": 11,
   "metadata": {},
   "outputs": [],
   "source": [
    "ix_one = tgi_task['a'].isin(genes_to_group) | tgi_task['b'].isin(genes_to_group) | tgi_task['c'].isin(genes_to_group)"
   ]
  },
  {
   "cell_type": "code",
   "execution_count": 12,
   "metadata": {},
   "outputs": [
    {
     "name": "stdout",
     "output_type": "stream",
     "text": [
      "74463\n"
     ]
    }
   ],
   "source": [
    "sel_tgi_df = tgi_task[ix_all]\n",
    "print(np.sum(ix_all))"
   ]
  },
  {
   "cell_type": "code",
   "execution_count": 13,
   "metadata": {},
   "outputs": [
    {
     "name": "stdout",
     "output_type": "stream",
     "text": [
      "7\n",
      "7\n"
     ]
    },
    {
     "data": {
      "text/plain": [
       "array([[2.8330e+03, 2.0000e+00],\n",
       "       [7.1623e+04, 5.0000e+00]])"
      ]
     },
     "execution_count": 13,
     "metadata": {},
     "output_type": "execute_result"
    }
   ],
   "source": [
    "R = np.zeros((2, 2))\n",
    "for b in [0, 1]:\n",
    "    ix_bin = sel_tgi_df['bin'] == b\n",
    "    ix_all_members = (sel_tgi_df['a_group'] == sel_tgi_df['b_group']) & (sel_tgi_df['a_group'] == sel_tgi_df['c_group'])\n",
    "    print(np.sum(ix_all_members))\n",
    "    R[b, 0] = np.sum(ix_bin & ~ix_all_members)\n",
    "    R[b, 1] = np.sum(ix_bin & ix_all_members)\n",
    "R"
   ]
  },
  {
   "cell_type": "code",
   "execution_count": 21,
   "metadata": {},
   "outputs": [
    {
     "name": "stdout",
     "output_type": "stream",
     "text": [
      "[[2.8330e+03 2.0000e+00]\n",
      " [7.1623e+04 5.0000e+00]]\n",
      "[[ 2835.]\n",
      " [71628.]]\n",
      "[[7.4456e+04 7.0000e+00]]\n",
      "[[2.83473349e+03 2.66508199e-01]\n",
      " [7.16212665e+04 6.73349180e+00]]\n",
      "**\n",
      "[[2.8330e+03 2.0000e+00]\n",
      " [7.1623e+04 5.0000e+00]]\n",
      "11.72280504946237\n",
      "0.008395623243940218\n"
     ]
    },
    {
     "data": {
      "image/png": "[encoded data removed]",
      "text/plain": [
       "<Figure size 1080x720 with 1 Axes>"
      ]
     },
     "metadata": {
      "needs_background": "light"
     },
     "output_type": "display_data"
    }
   ],
   "source": [
    "\n",
    "def chi2(f_obs):\n",
    "\n",
    "    # compute expected frequencies\n",
    "    col_marginal = np.sum(f_obs, axis=1, keepdims=True)\n",
    "    row_marginal = np.sum(f_obs, axis=0, keepdims=True)\n",
    "    total = np.sum(row_marginal)\n",
    "    f_exp = np.dot(col_marginal / total, row_marginal)\n",
    "    \n",
    "    \n",
    "    print(f_obs)\n",
    "    print(col_marginal)\n",
    "    print(row_marginal)\n",
    "    print(f_exp)\n",
    "    \n",
    "    chisq, p = stats.chisquare(f_obs, f_exp, axis=None)\n",
    "    \n",
    "    ddof = (f_obs.shape[0]-1) * (f_obs.shape[1]-1)\n",
    "\n",
    "    return chisq, p, ddof\n",
    "\n",
    "def visualizeR(R, col_labels):\n",
    "    star_colors = ['magenta', '#007bff']\n",
    "    rows = []\n",
    "    bin_labels = ['Negative', 'Neutral']\n",
    "    for thebin in range(R.shape[0]):\n",
    "        for j in range(R.shape[1]):\n",
    "            rows.append({\n",
    "                \"bin\" : bin_labels[thebin],\n",
    "                \"membership\" : col_labels[j],\n",
    "                \"freq\" : R[thebin, j] / np.sum(R[:, j]) \n",
    "            })\n",
    "    \n",
    "        for j in range(2 - R.shape[1]):\n",
    "            rows.append({\n",
    "                \"bin\" : bin_labels[thebin],\n",
    "                \"membership\" : ' ' * (j+1),\n",
    "                \"freq\" : 0\n",
    "            })\n",
    "    \n",
    "    \n",
    "    df = pd.DataFrame(rows)\n",
    "    df['freq'] = df['freq'] * 100\n",
    "    \n",
    "    f, ax = plt.subplots(1, 1, figsize=(15, 10))\n",
    "    g = sns.barplot(x=\"membership\", \n",
    "            y=\"freq\", \n",
    "            hue=\"bin\",\n",
    "            ax=ax,\n",
    "            data=df, \n",
    "            palette=['magenta', 'cyan'])\n",
    "    \n",
    "    ax.yaxis.set_tick_params(labelsize=plot_cfg['tick_label_size'])\n",
    "    ax.xaxis.set_tick_params(labelsize=plot_cfg['tick_label_size'], pad=15)\n",
    "    ax.set_xlabel(\"\")\n",
    "    ax.set_ylabel(\"% Triplets\", fontsize=plot_cfg['ylabel_size'], weight='bold')\n",
    "    ax.spines['right'].set_visible(False)\n",
    "    ax.spines['top'].set_visible(False)\n",
    "    ax.legend(frameon=False, fontsize=plot_cfg['legend_size'])\n",
    "    plt.setp(ax.spines.values(),linewidth=plot_cfg[\"border_size\"], color='black')\n",
    "    \n",
    "    chisq, p, ddof = chi2(R)\n",
    "    stars = '*' * eval_funcs.compute_stars(p, 0.05)\n",
    "    print(stars)\n",
    "    print(R)\n",
    "    print(chisq)\n",
    "    print(p)\n",
    "    ax.text(0.55, 0.92, stars, \n",
    "                    transform=ax.transAxes,\n",
    "                    color=star_colors[1], ha=\"left\", va=\"top\", weight='bold', \n",
    "                    fontsize=plot_cfg['stars_label_size'])\n",
    "    #ax.set_title(title, fontsize=plot_cfg['xlabel_size'], fontweight='bold')\n",
    "visualizeR(R, ['Across', 'Within'])"
   ]
  },
  {
   "cell_type": "code",
   "execution_count": null,
   "metadata": {},
   "outputs": [],
   "source": []
  },
  {
   "cell_type": "code",
   "execution_count": null,
   "metadata": {},
   "outputs": [],
   "source": []
  }
 ],
 "metadata": {
  "kernelspec": {
   "display_name": "Python 3",
   "language": "python",
   "name": "python3"
  },
  "language_info": {
   "codemirror_mode": {
    "name": "ipython",
    "version": 3
   },
   "file_extension": ".py",
   "mimetype": "text/x-python",
   "name": "python",
   "nbconvert_exporter": "python",
   "pygments_lexer": "ipython3",
   "version": "3.8.5"
  }
 },
 "nbformat": 4,
 "nbformat_minor": 4
}
