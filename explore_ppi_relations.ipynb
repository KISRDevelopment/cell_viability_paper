{
 "cells": [
  {
   "cell_type": "code",
   "execution_count": 1,
   "id": "412f2957-09a5-4e94-80b6-a979f55b4c8b",
   "metadata": {},
   "outputs": [],
   "source": [
    "import numpy as np\n",
    "import pandas as pd\n",
    "from collections import defaultdict\n",
    "from utils import yeast_name_resolver\n",
    "import networkx as nx\n",
    "import re\n",
    "import feature_preprocessing.complexes_pathways\n",
    "res = yeast_name_resolver.NameResolver()"
   ]
  },
  {
   "cell_type": "markdown",
   "id": "1c5642cd-ac39-4ce7-a392-2a3d17fe738e",
   "metadata": {},
   "source": [
    "# get phosphorylations"
   ]
  },
  {
   "cell_type": "code",
   "execution_count": 2,
   "id": "06edbabd-ee8d-467b-af12-fdc9caf6b109",
   "metadata": {},
   "outputs": [
    {
     "name": "stdout",
     "output_type": "stream",
     "text": [
      "# relations: 1347\n",
      "# relations in network: 1326\n",
      "# relations: 255\n",
      "# relations in network: 255\n"
     ]
    }
   ],
   "source": [
    "def extract_relations(gpath, file_path):\n",
    "    G = nx.read_gpickle(gpath)\n",
    "    nodes = sorted(G.nodes())\n",
    "    node_ix = dict(zip(nodes, np.arange(len(nodes))))\n",
    "\n",
    "    relations = []\n",
    "    with open(file_path, 'r') as f:\n",
    "        for line in f:\n",
    "            m = re.match(r'^(.+?)\\s', line)\n",
    "            if not m:\n",
    "                continue   \n",
    "            source = res.get_unified_name(m.group(1))\n",
    "            m = re.search(r'\\[(.+?)\\]', line)\n",
    "            if not m:\n",
    "                continue \n",
    "            targets = res.get_unified_names([t.lower() for t in m.group(1).split(', ')])\n",
    "            for target in targets:\n",
    "                relations.append((source,target))\n",
    "    \n",
    "    #print(relations)\n",
    "    print(\"# relations: %d\" % len(relations))\n",
    "    relations = [rel for rel in relations if rel[0] in node_ix and rel[1] in node_ix]\n",
    "    print(\"# relations in network: %d\" % len(relations))\n",
    "    \n",
    "    return relations\n",
    "\n",
    "p_relations = extract_relations('../generated-data/ppc_yeast', '../data-sources/yeast/kinase.txt')\n",
    "dp_relations = extract_relations('../generated-data/ppc_yeast', '../data-sources/yeast/phosphotase.txt')"
   ]
  },
  {
   "cell_type": "markdown",
   "id": "dd0664c0-7d5c-4b0c-b9c6-42dd3d89e788",
   "metadata": {},
   "source": [
    "# get transcriptions"
   ]
  },
  {
   "cell_type": "code",
   "execution_count": 3,
   "id": "1f615447-5acb-4308-a648-1292e1e4192c",
   "metadata": {},
   "outputs": [],
   "source": [
    "G = nx.read_gpickle('../generated-data/ppc_yeast')\n",
    "nodes = sorted(G.nodes())\n",
    "node_ix = dict(zip(nodes, np.arange(len(nodes))))\n",
    "\n",
    "df = pd.read_excel('../data-sources/yeast/transcript_25c.xlsx')\n",
    "    \n",
    "factors = [res.get_unified_name(f) for f in df.columns[2:]]\n",
    "    \n",
    "all_columns = np.array(df.columns[:])\n",
    "all_columns[2:] = factors\n",
    "df.columns = all_columns\n",
    "\n",
    "factors = [f for f in factors if f in node_ix]"
   ]
  },
  {
   "cell_type": "code",
   "execution_count": 4,
   "id": "2aca891b-f430-4125-ae5f-3d2c2166a8b6",
   "metadata": {},
   "outputs": [
    {
     "data": {
      "text/plain": [
       "106940"
      ]
     },
     "execution_count": 4,
     "metadata": {},
     "output_type": "execute_result"
    }
   ],
   "source": [
    "TF_THRESHOLD = 1.0\n",
    "\n",
    "# read transcription matrix\n",
    "# 0 = In, 1 = Out\n",
    "t_relations = set()\n",
    "for i, r in df.iterrows():\n",
    "    utarget = res.get_unified_name(r['Factor'])\n",
    "    if utarget not in node_ix:\n",
    "        continue\n",
    "        \n",
    "    for factor in factors:\n",
    "            \n",
    "        if r[factor] >= TF_THRESHOLD:\n",
    "            \n",
    "            t_relations.add((factor, utarget))\n",
    "len(t_relations)"
   ]
  },
  {
   "cell_type": "markdown",
   "id": "32a19ddb-9af9-4bfd-8b0b-cb401fa51c34",
   "metadata": {},
   "source": [
    "# get ppc"
   ]
  },
  {
   "cell_type": "code",
   "execution_count": 5,
   "id": "3d749fb2-80b8-4d2f-8513-2b15baf57d93",
   "metadata": {},
   "outputs": [
    {
     "data": {
      "text/plain": [
       "59377"
      ]
     },
     "execution_count": 5,
     "metadata": {},
     "output_type": "execute_result"
    }
   ],
   "source": [
    "ppc_relations = list(G.edges())\n",
    "len(ppc_relations)"
   ]
  },
  {
   "cell_type": "markdown",
   "id": "12673944-ae54-43c8-81c2-209f99dfa094",
   "metadata": {},
   "source": [
    "# get complexes and pathways"
   ]
  },
  {
   "cell_type": "code",
   "execution_count": 6,
   "id": "43cb443e-d206-4dfe-965d-6e6c0d707490",
   "metadata": {},
   "outputs": [],
   "source": [
    "def invert(mapping):\n",
    "    \n",
    "    inverted = defaultdict(set)\n",
    "    for key, vals in mapping.items():\n",
    "        for val in vals:\n",
    "            inverted[val].add(key)\n",
    "    return dict(inverted)\n",
    "\n",
    "def make_relations(mapping):\n",
    "    \n",
    "    rels = set()\n",
    "    \n",
    "    for group, genes in mapping.items():\n",
    "        for a in genes:\n",
    "            for b in genes:\n",
    "                if a != b:\n",
    "                    rels.add((a, b))\n",
    "    \n",
    "    return rels"
   ]
  },
  {
   "cell_type": "code",
   "execution_count": 7,
   "id": "94b6c5f2-4da8-413b-be75-9a0e0713de61",
   "metadata": {},
   "outputs": [],
   "source": [
    "genes_to_complexes = feature_preprocessing.complexes_pathways.parse_yeast_complexes()\n",
    "complexes_to_genes = invert(genes_to_complexes)"
   ]
  },
  {
   "cell_type": "code",
   "execution_count": 8,
   "id": "54e68d55-767b-4450-8507-d7bb6d587d8a",
   "metadata": {},
   "outputs": [
    {
     "data": {
      "text/plain": [
       "22510"
      ]
     },
     "execution_count": 8,
     "metadata": {},
     "output_type": "execute_result"
    }
   ],
   "source": [
    "complex_relations = make_relations(complexes_to_genes)\n",
    "len(complex_relations)"
   ]
  },
  {
   "cell_type": "code",
   "execution_count": 9,
   "id": "790e7548-db88-4d92-893f-be2298805e83",
   "metadata": {},
   "outputs": [
    {
     "data": {
      "text/plain": [
       "831146"
      ]
     },
     "execution_count": 9,
     "metadata": {},
     "output_type": "execute_result"
    }
   ],
   "source": [
    "genes_to_pathways = feature_preprocessing.complexes_pathways.parse_kegg_pathways()\n",
    "pathways_to_genes = invert(genes_to_pathways)\n",
    "pathway_relations = make_relations(pathways_to_genes)\n",
    "len(pathway_relations)"
   ]
  },
  {
   "cell_type": "markdown",
   "id": "d94a4e08-6628-44d2-948e-827c55f6f11b",
   "metadata": {},
   "source": [
    "# cleanup relations"
   ]
  },
  {
   "cell_type": "code",
   "execution_count": 10,
   "id": "322b8b67-8523-4b31-8bca-cf32519b05a7",
   "metadata": {},
   "outputs": [],
   "source": [
    "def sort_rels(rels):\n",
    "    return set(sorted([tuple(sorted(r)) for r in rels]))\n",
    "\n",
    "phosph_rels = sort_rels(p_relations + dp_relations)\n",
    "t_rels = sort_rels(t_relations)\n",
    "ppc_rels = sort_rels(ppc_relations)\n",
    "complex_rels = sort_rels(complex_relations)\n",
    "pathway_rels = sort_rels(pathway_relations)"
   ]
  },
  {
   "cell_type": "markdown",
   "id": "94de3feb-1924-4cc1-bcfd-3e2e93dfed8d",
   "metadata": {},
   "source": [
    "# load up dataset"
   ]
  },
  {
   "cell_type": "code",
   "execution_count": 30,
   "id": "0f67ca00-6e6b-4474-ae4e-2fcf60658f81",
   "metadata": {},
   "outputs": [],
   "source": [
    "df = pd.read_csv(\"../generated-data/task_yeast_gi_hybrid\")"
   ]
  },
  {
   "cell_type": "code",
   "execution_count": 39,
   "id": "8af6e94b-a016-4527-b749-1f8ed1ce7ac7",
   "metadata": {},
   "outputs": [],
   "source": [
    "pair = pd.Series([tuple(sorted((a,b))) for a,b in zip(df['a'], df['b'])])"
   ]
  },
  {
   "cell_type": "code",
   "execution_count": 44,
   "id": "8f07dc79-7797-4b7c-ba94-725c7fed276e",
   "metadata": {},
   "outputs": [],
   "source": [
    "df['rel_phospho'] = pair.isin(phosph_rels).astype(int)\n",
    "df['rel_trans'] = pair.isin(t_rels).astype(int)\n",
    "df['rel_ppc'] = pair.isin(ppc_rels).astype(int)\n",
    "df['rel_complex'] = pair.isin(complex_rels).astype(int)\n",
    "df['rel_pathway'] = pair.isin(pathway_rels).astype(int)\n",
    "\n",
    "df['rel_not_phospho'] = (~pair.isin(phosph_rels)).astype(int)\n",
    "df['rel_not_trans'] = (~pair.isin(t_rels)).astype(int)\n",
    "df['rel_not_ppc'] = (~pair.isin(ppc_rels)).astype(int)\n",
    "df['rel_not_complex'] = (~pair.isin(complex_rels)).astype(int)\n",
    "df['rel_not_pathway'] = (~pair.isin(pathway_rels)).astype(int)"
   ]
  },
  {
   "cell_type": "code",
   "execution_count": 46,
   "id": "d14ef54b-72ce-442b-8d26-1b14811c537c",
   "metadata": {},
   "outputs": [
    {
     "data": {
      "text/plain": [
       "806"
      ]
     },
     "execution_count": 46,
     "metadata": {},
     "output_type": "execute_result"
    }
   ],
   "source": [
    "np.sum(df['rel_phospho'])"
   ]
  },
  {
   "cell_type": "code",
   "execution_count": 47,
   "id": "49579274-9bee-4c33-aa87-6581d2afc026",
   "metadata": {},
   "outputs": [],
   "source": [
    "df.to_csv(\"../generated-data/task_yeast_gi_hybrid\", index=False)"
   ]
  },
  {
   "cell_type": "code",
   "execution_count": 34,
   "id": "58154742-5a11-4da9-ab4e-6a0ae863eb1c",
   "metadata": {},
   "outputs": [
    {
     "data": {
      "text/plain": [
       "rel_phospho      50\n",
       "rel_trans       461\n",
       "rel_ppc        1592\n",
       "rel_complex     519\n",
       "rel_pathway    1881\n",
       "dtype: int64"
      ]
     },
     "execution_count": 34,
     "metadata": {},
     "output_type": "execute_result"
    }
   ],
   "source": [
    "ix = df['bin'] != 1\n",
    "np.sum(df[ix][['rel_phospho', 'rel_trans', 'rel_ppc', 'rel_complex', 'rel_pathway']], axis=0)"
   ]
  },
  {
   "cell_type": "code",
   "execution_count": 35,
   "id": "053b512b-9b3f-49ab-ab35-6ff07f6fe81b",
   "metadata": {},
   "outputs": [
    {
     "data": {
      "text/plain": [
       "rel_phospho       756\n",
       "rel_trans       53524\n",
       "rel_ppc         24782\n",
       "rel_complex      2991\n",
       "rel_pathway    149753\n",
       "dtype: int64"
      ]
     },
     "execution_count": 35,
     "metadata": {},
     "output_type": "execute_result"
    }
   ],
   "source": [
    "np.sum(df[~ix][['rel_phospho', 'rel_trans', 'rel_ppc', 'rel_complex', 'rel_pathway']], axis=0)"
   ]
  },
  {
   "cell_type": "code",
   "execution_count": 21,
   "id": "74dbef53-a95f-4822-8ae4-c074962b531e",
   "metadata": {},
   "outputs": [
    {
     "data": {
      "text/plain": [
       "6897562"
      ]
     },
     "execution_count": 21,
     "metadata": {},
     "output_type": "execute_result"
    }
   ],
   "source": [
    "np.sum(~ix)"
   ]
  },
  {
   "cell_type": "code",
   "execution_count": 22,
   "id": "f696b7cf-24e5-4874-a3f7-40ac0ad642d9",
   "metadata": {},
   "outputs": [
    {
     "data": {
      "text/plain": [
       "231806"
      ]
     },
     "execution_count": 22,
     "metadata": {},
     "output_type": "execute_result"
    }
   ],
   "source": [
    "np.sum(np.sum(df[~ix][['rel_phospho', 'rel_trans', 'rel_ppc', 'rel_complex', 'rel_pathway']], axis=0))"
   ]
  },
  {
   "cell_type": "code",
   "execution_count": 25,
   "id": "dacbd281-5fd5-47e1-b3a7-b146687f99ef",
   "metadata": {},
   "outputs": [
    {
     "data": {
      "text/html": [
       "<div>\n",
       "<style scoped>\n",
       "    .dataframe tbody tr th:only-of-type {\n",
       "        vertical-align: middle;\n",
       "    }\n",
       "\n",
       "    .dataframe tbody tr th {\n",
       "        vertical-align: top;\n",
       "    }\n",
       "\n",
       "    .dataframe thead th {\n",
       "        text-align: right;\n",
       "    }\n",
       "</style>\n",
       "<table border=\"1\" class=\"dataframe\">\n",
       "  <thead>\n",
       "    <tr style=\"text-align: right;\">\n",
       "      <th></th>\n",
       "      <th>is_interacting</th>\n",
       "      <th>rel_phospho</th>\n",
       "      <th>rel_trans</th>\n",
       "      <th>rel_ppc</th>\n",
       "      <th>rel_complex</th>\n",
       "      <th>rel_pathway</th>\n",
       "    </tr>\n",
       "  </thead>\n",
       "  <tbody>\n",
       "    <tr>\n",
       "      <th>is_interacting</th>\n",
       "      <td>1.000000</td>\n",
       "      <td>0.011485</td>\n",
       "      <td>0.008738</td>\n",
       "      <td>0.063950</td>\n",
       "      <td>0.058868</td>\n",
       "      <td>0.025192</td>\n",
       "    </tr>\n",
       "    <tr>\n",
       "      <th>rel_phospho</th>\n",
       "      <td>0.011485</td>\n",
       "      <td>1.000000</td>\n",
       "      <td>0.000108</td>\n",
       "      <td>0.174492</td>\n",
       "      <td>0.028898</td>\n",
       "      <td>0.007531</td>\n",
       "    </tr>\n",
       "    <tr>\n",
       "      <th>rel_trans</th>\n",
       "      <td>0.008738</td>\n",
       "      <td>0.000108</td>\n",
       "      <td>1.000000</td>\n",
       "      <td>0.007603</td>\n",
       "      <td>0.000847</td>\n",
       "      <td>-0.009280</td>\n",
       "    </tr>\n",
       "    <tr>\n",
       "      <th>rel_ppc</th>\n",
       "      <td>0.063950</td>\n",
       "      <td>0.174492</td>\n",
       "      <td>0.007603</td>\n",
       "      <td>1.000000</td>\n",
       "      <td>0.134222</td>\n",
       "      <td>0.021674</td>\n",
       "    </tr>\n",
       "    <tr>\n",
       "      <th>rel_complex</th>\n",
       "      <td>0.058868</td>\n",
       "      <td>0.028898</td>\n",
       "      <td>0.000847</td>\n",
       "      <td>0.134222</td>\n",
       "      <td>1.000000</td>\n",
       "      <td>0.104868</td>\n",
       "    </tr>\n",
       "    <tr>\n",
       "      <th>rel_pathway</th>\n",
       "      <td>0.025192</td>\n",
       "      <td>0.007531</td>\n",
       "      <td>-0.009280</td>\n",
       "      <td>0.021674</td>\n",
       "      <td>0.104868</td>\n",
       "      <td>1.000000</td>\n",
       "    </tr>\n",
       "  </tbody>\n",
       "</table>\n",
       "</div>"
      ],
      "text/plain": [
       "                is_interacting  rel_phospho  rel_trans   rel_ppc  rel_complex  \\\n",
       "is_interacting        1.000000     0.011485   0.008738  0.063950     0.058868   \n",
       "rel_phospho           0.011485     1.000000   0.000108  0.174492     0.028898   \n",
       "rel_trans             0.008738     0.000108   1.000000  0.007603     0.000847   \n",
       "rel_ppc               0.063950     0.174492   0.007603  1.000000     0.134222   \n",
       "rel_complex           0.058868     0.028898   0.000847  0.134222     1.000000   \n",
       "rel_pathway           0.025192     0.007531  -0.009280  0.021674     0.104868   \n",
       "\n",
       "                rel_pathway  \n",
       "is_interacting     0.025192  \n",
       "rel_phospho        0.007531  \n",
       "rel_trans         -0.009280  \n",
       "rel_ppc            0.021674  \n",
       "rel_complex        0.104868  \n",
       "rel_pathway        1.000000  "
      ]
     },
     "execution_count": 25,
     "metadata": {},
     "output_type": "execute_result"
    }
   ],
   "source": [
    "df[['is_interacting', 'rel_phospho', 'rel_trans', 'rel_ppc', 'rel_complex', 'rel_pathway']].corr()"
   ]
  },
  {
   "cell_type": "code",
   "execution_count": 26,
   "id": "ca31e595-2fff-4218-8d4f-2ee084fe3018",
   "metadata": {},
   "outputs": [],
   "source": [
    "df['rel_pattern'] = [(a,b,c,d,e) for a,b,c,d,e in zip(df['rel_phospho'], df['rel_trans'], df['rel_ppc'], df['rel_complex'], df['rel_pathway'])]\n",
    "\n"
   ]
  },
  {
   "cell_type": "code",
   "execution_count": 28,
   "id": "02f5aabc-b50d-4f51-99f2-fc74c9b7f135",
   "metadata": {},
   "outputs": [
    {
     "data": {
      "text/plain": [
       "defaultdict(int,\n",
       "            {(False, False, False, False, False): 6689396,\n",
       "             (False, False, False, False, True): 147402,\n",
       "             (False, False, True, False, True): 1342,\n",
       "             (False, True, False, False, False): 53155,\n",
       "             (False, False, True, False, False): 22524,\n",
       "             (False, False, False, True, False): 240,\n",
       "             (False, False, True, True, True): 472,\n",
       "             (False, False, True, True, False): 746,\n",
       "             (True, False, True, True, False): 24,\n",
       "             (False, True, True, False, False): 438,\n",
       "             (True, False, True, False, False): 677,\n",
       "             (True, False, True, False, True): 73,\n",
       "             (False, False, False, True, True): 1964,\n",
       "             (False, True, False, False, True): 335,\n",
       "             (True, False, True, True, True): 25,\n",
       "             (False, True, True, True, False): 29,\n",
       "             (False, True, True, True, True): 6,\n",
       "             (False, True, True, False, True): 11,\n",
       "             (True, True, True, False, True): 2,\n",
       "             (True, True, True, False, False): 5,\n",
       "             (False, True, False, True, True): 2,\n",
       "             (False, True, False, True, False): 2})"
      ]
     },
     "execution_count": 28,
     "metadata": {},
     "output_type": "execute_result"
    }
   ],
   "source": [
    "pattern_counts = defaultdict(int)\n",
    "for p in df['rel_pattern']:\n",
    "    pattern_counts[p]+=1\n"
   ]
  },
  {
   "cell_type": "code",
   "execution_count": 29,
   "id": "1974643d-14e9-4f42-b6ae-901071b12abf",
   "metadata": {},
   "outputs": [
    {
     "data": {
      "text/plain": [
       "22"
      ]
     },
     "execution_count": 29,
     "metadata": {},
     "output_type": "execute_result"
    }
   ],
   "source": [
    "len(pattern_counts)"
   ]
  },
  {
   "cell_type": "code",
   "execution_count": null,
   "id": "f1df91e5-6507-4cda-b2c4-1da465298862",
   "metadata": {},
   "outputs": [],
   "source": []
  }
 ],
 "metadata": {
  "kernelspec": {
   "display_name": "Python 3 (ipykernel)",
   "language": "python",
   "name": "python3"
  },
  "language_info": {
   "codemirror_mode": {
    "name": "ipython",
    "version": 3
   },
   "file_extension": ".py",
   "mimetype": "text/x-python",
   "name": "python",
   "nbconvert_exporter": "python",
   "pygments_lexer": "ipython3",
   "version": "3.8.10"
  }
 },
 "nbformat": 4,
 "nbformat_minor": 5
}
