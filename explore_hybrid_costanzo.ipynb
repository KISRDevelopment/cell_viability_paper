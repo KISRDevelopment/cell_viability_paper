{
 "cells": [
  {
   "cell_type": "code",
   "execution_count": 1,
   "id": "736b6155-311c-492b-ada1-0cda1e5d36c5",
   "metadata": {},
   "outputs": [],
   "source": [
    "import numpy as np\n",
    "import pandas as pd\n",
    "import os\n",
    "from collections import defaultdict\n",
    "import utils.yeast_name_resolver\n",
    "\n",
    "res = utils.yeast_name_resolver.NameResolver()"
   ]
  },
  {
   "cell_type": "code",
   "execution_count": 2,
   "id": "c1120db3-245a-4520-ac7e-a522a7393940",
   "metadata": {},
   "outputs": [],
   "source": [
    "BIOGRID_PATH = \"../data-sources/biogrid/\"\n",
    "PATHS = [\n",
    "    (\"BIOGRID-SYSTEM-Synthetic_Lethality-3.4.156.mitab\", 0),\n",
    "    (\"BIOGRID-SYSTEM-Synthetic_Growth_Defect-3.4.156.mitab\", 0),\n",
    "    (\"BIOGRID-SYSTEM-Negative_Genetic-3.4.156.mitab\", 0),\n",
    "    (\"BIOGRID-SYSTEM-Dosage_Growth_Defect-3.4.156.mitab\", 0),\n",
    "    (\"BIOGRID-SYSTEM-Dosage_Lethality-3.4.156.mitab\", 0),\n",
    "    (\"BIOGRID-SYSTEM-Phenotypic_Enhancement-3.4.156.mitab\", 0),\n",
    "    (\"BIOGRID-SYSTEM-Phenotypic_Suppression-3.4.156.mitab\", 3),\n",
    "    (\"BIOGRID-SYSTEM-Dosage_Rescue-3.4.156.mitab\", 3),\n",
    "    (\"BIOGRID-SYSTEM-Synthetic_Rescue-3.4.156.mitab\", 3),\n",
    "    (\"BIOGRID-SYSTEM-Positive_Genetic-3.4.156.mitab\", 2)\n",
    "]\n",
    "def extract_names_taxid559292(df):\n",
    "\n",
    "    res = utils.yeast_name_resolver.NameResolver()\n",
    "\n",
    "    a_names = list(df['Alt IDs Interactor A'])\n",
    "    b_names = list(df['Alt IDs Interactor B'])\n",
    "\n",
    "    def extract_locus(e):\n",
    "        return res.get_unified_name(e.split('|')[-1].replace('entrez gene/locuslink:', '').lower())\n",
    "\n",
    "    return [extract_locus(e) for e in a_names], [extract_locus(e) for e in b_names]\n",
    "\n",
    "taxid = 559292"
   ]
  },
  {
   "cell_type": "code",
   "execution_count": 3,
   "id": "cb7ba8a8-3517-430d-9687-20582cc7049e",
   "metadata": {},
   "outputs": [
    {
     "name": "stdout",
     "output_type": "stream",
     "text": [
      "Ignored 4606 pairs with overlaps\n"
     ]
    }
   ],
   "source": [
    "taxid_str = \"taxid:%d\" % taxid\n",
    "name_extraction_func = extract_names_taxid559292\n",
    "pub_threshold = 3\n",
    "\n",
    "pairs_to_conditions = defaultdict(lambda: defaultdict(list) )\n",
    "\n",
    "for path, condition in PATHS:\n",
    "    df = pd.read_csv(os.path.join(BIOGRID_PATH, path+'.txt'), sep='\\t')\n",
    "    \n",
    "    ix = (df['Taxid Interactor A'] == taxid_str) & (df['Taxid Interactor B'] == taxid_str)\n",
    "    df = df[ix]\n",
    "\n",
    "    a, b = name_extraction_func(df)\n",
    "\n",
    "    for i in range(df.shape[0]):\n",
    "        key = tuple(sorted((a[i], b[i])))\n",
    "        pub = df.iloc[i]['Publication 1st Author']\n",
    "        pairs_to_conditions[key][condition].append(pub)\n",
    "\n",
    "# count how often each condition is experienced      \n",
    "rows = []\n",
    "conditions_to_pairs = defaultdict(set)\n",
    "ignored_overlaps = 0\n",
    "for pair, conditions in pairs_to_conditions.items():\n",
    "\n",
    "    # some pairs can be listed under multiple conditions\n",
    "    # this is ok as long as there is one condition that has\n",
    "    # higher frequency of appearance than others.\n",
    "    # So if a pair occurs twice in bin #2, and twice in bin #3, it is discarded.\n",
    "    # But if it occurs once in #2, and twice in bin #3, it is accepted.\n",
    "    condition_cnts = [(c,len(conditions[c])) for c in conditions]\n",
    "    condition_cnts = sorted(condition_cnts, key=lambda p: p[1], reverse=True)\n",
    "    if len(condition_cnts) > 1 and condition_cnts[0][1] == condition_cnts[1][1]:\n",
    "        #print(\"(%s, %s): %s\" % (pair[0], pair[1], ', '.join([str(e) for e in conditions])))\n",
    "        ignored_overlaps += 1\n",
    "        continue \n",
    "    \n",
    "    most_common_condition = condition_cnts[0]\n",
    "        \n",
    "    # only accept if it passes pub threshold\n",
    "    if most_common_condition[1] >= pub_threshold:\n",
    "        conditions_to_pairs[most_common_condition[0]].add(pair)\n",
    "\n",
    "print(\"Ignored %d pairs with overlaps\" % ignored_overlaps)"
   ]
  },
  {
   "cell_type": "code",
   "execution_count": 21,
   "id": "bf509598-1edd-4d76-9491-cb19f31c93a0",
   "metadata": {},
   "outputs": [
    {
     "name": "stdout",
     "output_type": "stream",
     "text": [
      "0 20746 (those with costanzo pub: 17556)\n",
      "3 664 (those with costanzo pub: 0)\n",
      "2 1098 (those with costanzo pub: 781)\n",
      "Total diff: 4171\n"
     ]
    }
   ],
   "source": [
    "diff = 0\n",
    "for c, pairs in conditions_to_pairs.items():\n",
    "    \n",
    "    pairs_with_costanzo_pub = 0\n",
    "    for pair in pairs:\n",
    "        costanzo_pubs = len([p for p in pairs_to_conditions[pair][c] if 'costanzo m (2016)' in p.lower()])\n",
    "        pairs_with_costanzo_pub += costanzo_pubs > 0\n",
    "    \n",
    "    diff += len(pairs) - pairs_with_costanzo_pub\n",
    "    print(\"%s %d (those with costanzo pub: %d)\" % (c,len(pairs), pairs_with_costanzo_pub))\n",
    "print(\"Total diff: %d\" % diff)"
   ]
  },
  {
   "cell_type": "code",
   "execution_count": 23,
   "id": "7b4519f6-df7b-42cc-b061-4a713ac38638",
   "metadata": {},
   "outputs": [
    {
     "data": {
      "text/plain": [
       "0.8146881108939044"
      ]
     },
     "execution_count": 23,
     "metadata": {},
     "output_type": "execute_result"
    }
   ],
   "source": [
    "1 - 4171 / (20746+664+1098)"
   ]
  },
  {
   "cell_type": "code",
   "execution_count": 25,
   "id": "3c05e0bf-0171-41d0-ac29-d756503bcadb",
   "metadata": {},
   "outputs": [
    {
     "data": {
      "text/plain": [
       "0.7112932604735883"
      ]
     },
     "execution_count": 25,
     "metadata": {},
     "output_type": "execute_result"
    }
   ],
   "source": [
    "781/1098"
   ]
  },
  {
   "cell_type": "code",
   "execution_count": 5,
   "id": "205e2462-afa2-4a03-a23e-f93895ddee7e",
   "metadata": {},
   "outputs": [
    {
     "data": {
      "text/plain": [
       "Publication 1st Author\n",
       "Costanzo M (2016)         47191\n",
       "Costanzo M (2010)          6472\n",
       "Hoppins S (2011)           2943\n",
       "Collins SR (2007)          2813\n",
       "Wilmes GM (2008)           2654\n",
       "Szappanos B (2011)         1990\n",
       "Srivas R (2016)            1882\n",
       "Schuldiner M (2005)        1430\n",
       "Fiedler D (2009)           1409\n",
       "Surma MA (2013)             810\n",
       "Bandyopadhyay S (2010)      793\n",
       "Stirling PC (2011)          733\n",
       "Makrantoni V (2017)         428\n",
       "Zheng J (2010)              395\n",
       "Vembar SS (2010)            332\n",
       "Breslow DK (2008)           321\n",
       "Kyriakou D (2016)           312\n",
       "Aguilar PS (2010)           274\n",
       "Sharifpoor S (2012)         191\n",
       "Addinall SG (2011)          187\n",
       "Garay E (2014)              178\n",
       "Leung GP (2014)             163\n",
       "Steunou AL (2016)           141\n",
       "Louie RJ (2012)             132\n",
       "Libuda DE (2010)            106\n",
       "Nguyen HD (2013)             88\n",
       "Hannum G (2009)              81\n",
       "Gallina I (2015)             62\n",
       "Boettner DR (2011)           53\n",
       "Michelot A (2010)            50\n",
       "St Onge RP (2007)            45\n",
       "Milliman EJ (2012)           38\n",
       "Rogers JV (2014)             17\n",
       "Ferrari E (2017)             12\n",
       "Wang H (2009)                 5\n",
       "Phenix H (2011)               4\n",
       "dtype: int64"
      ]
     },
     "execution_count": 5,
     "metadata": {},
     "output_type": "execute_result"
    }
   ],
   "source": [
    "gdf = df.groupby('Publication 1st Author').agg('size')\n",
    "gdf.sort_values(ascending=False)"
   ]
  },
  {
   "cell_type": "markdown",
   "id": "cb19ee77-9572-483b-96ef-4698fb9e6b1e",
   "metadata": {},
   "source": [
    "# Check GI Overlap Between Two Datasets"
   ]
  },
  {
   "cell_type": "code",
   "execution_count": 6,
   "id": "981a2819-e67d-4141-81e7-e04e30d0ed47",
   "metadata": {},
   "outputs": [],
   "source": [
    "costanzo_df = pd.read_csv(\"../generated-data/task_yeast_gi_costanzo\")\n",
    "costanzo_df['pair'] = [tuple(sorted((a,b))) for a,b in zip(costanzo_df['a'], costanzo_df['b'])]"
   ]
  },
  {
   "cell_type": "code",
   "execution_count": 7,
   "id": "a96356ff-0b98-428a-9d0d-4067360c5858",
   "metadata": {},
   "outputs": [],
   "source": [
    "hybrid_df = pd.read_csv(\"../generated-data/task_yeast_gi_hybrid\")\n",
    "hybrid_df['pair'] = [tuple(sorted((a,b))) for a,b in zip(hybrid_df['a'], hybrid_df['b'])]"
   ]
  },
  {
   "cell_type": "code",
   "execution_count": 8,
   "id": "db367ca7-5ff7-4113-9bc1-64b05e7e0eff",
   "metadata": {},
   "outputs": [
    {
     "data": {
      "text/html": [
       "<div>\n",
       "<style scoped>\n",
       "    .dataframe tbody tr th:only-of-type {\n",
       "        vertical-align: middle;\n",
       "    }\n",
       "\n",
       "    .dataframe tbody tr th {\n",
       "        vertical-align: top;\n",
       "    }\n",
       "\n",
       "    .dataframe thead th {\n",
       "        text-align: right;\n",
       "    }\n",
       "</style>\n",
       "<table border=\"1\" class=\"dataframe\">\n",
       "  <thead>\n",
       "    <tr style=\"text-align: right;\">\n",
       "      <th></th>\n",
       "      <th>a</th>\n",
       "      <th>b</th>\n",
       "      <th>a_id</th>\n",
       "      <th>b_id</th>\n",
       "      <th>bin</th>\n",
       "      <th>gi</th>\n",
       "      <th>cs</th>\n",
       "      <th>std</th>\n",
       "      <th>a_cs</th>\n",
       "      <th>b_cs</th>\n",
       "      <th>p_value</th>\n",
       "      <th>a_essential</th>\n",
       "      <th>b_essential</th>\n",
       "      <th>temp</th>\n",
       "      <th>pair</th>\n",
       "    </tr>\n",
       "  </thead>\n",
       "  <tbody>\n",
       "    <tr>\n",
       "      <th>0</th>\n",
       "      <td>ybr142w  mak5</td>\n",
       "      <td>yal025c  mak16</td>\n",
       "      <td>309</td>\n",
       "      <td>38</td>\n",
       "      <td>0</td>\n",
       "      <td>-0.1636</td>\n",
       "      <td>0.3203</td>\n",
       "      <td>0.0892</td>\n",
       "      <td>0.7052</td>\n",
       "      <td>0.6862</td>\n",
       "      <td>1.112000e-03</td>\n",
       "      <td>1</td>\n",
       "      <td>1</td>\n",
       "      <td>26</td>\n",
       "      <td>(yal025c  mak16, ybr142w  mak5)</td>\n",
       "    </tr>\n",
       "    <tr>\n",
       "      <th>1</th>\n",
       "      <td>ydl132w  cdc53</td>\n",
       "      <td>yal025c  mak16</td>\n",
       "      <td>681</td>\n",
       "      <td>38</td>\n",
       "      <td>0</td>\n",
       "      <td>-0.1697</td>\n",
       "      <td>0.1564</td>\n",
       "      <td>0.0327</td>\n",
       "      <td>0.4752</td>\n",
       "      <td>0.6862</td>\n",
       "      <td>2.885000e-06</td>\n",
       "      <td>1</td>\n",
       "      <td>1</td>\n",
       "      <td>26</td>\n",
       "      <td>(yal025c  mak16, ydl132w  cdc53)</td>\n",
       "    </tr>\n",
       "    <tr>\n",
       "      <th>2</th>\n",
       "      <td>ydr081c  pdc2</td>\n",
       "      <td>yal025c  mak16</td>\n",
       "      <td>849</td>\n",
       "      <td>38</td>\n",
       "      <td>0</td>\n",
       "      <td>-0.0979</td>\n",
       "      <td>0.1482</td>\n",
       "      <td>0.0328</td>\n",
       "      <td>0.3586</td>\n",
       "      <td>0.6862</td>\n",
       "      <td>4.467000e-03</td>\n",
       "      <td>1</td>\n",
       "      <td>1</td>\n",
       "      <td>26</td>\n",
       "      <td>(yal025c  mak16, ydr081c  pdc2)</td>\n",
       "    </tr>\n",
       "    <tr>\n",
       "      <th>3</th>\n",
       "      <td>ydr356w  spc110</td>\n",
       "      <td>yal025c  mak16</td>\n",
       "      <td>1088</td>\n",
       "      <td>38</td>\n",
       "      <td>0</td>\n",
       "      <td>-0.0917</td>\n",
       "      <td>0.4586</td>\n",
       "      <td>0.0062</td>\n",
       "      <td>0.8019</td>\n",
       "      <td>0.6862</td>\n",
       "      <td>1.041000e-27</td>\n",
       "      <td>1</td>\n",
       "      <td>1</td>\n",
       "      <td>26</td>\n",
       "      <td>(yal025c  mak16, ydr356w  spc110)</td>\n",
       "    </tr>\n",
       "    <tr>\n",
       "      <th>4</th>\n",
       "      <td>yer133w  glc7</td>\n",
       "      <td>yal025c  mak16</td>\n",
       "      <td>1430</td>\n",
       "      <td>38</td>\n",
       "      <td>0</td>\n",
       "      <td>-0.0900</td>\n",
       "      <td>0.4456</td>\n",
       "      <td>0.0526</td>\n",
       "      <td>0.7806</td>\n",
       "      <td>0.6862</td>\n",
       "      <td>2.885000e-02</td>\n",
       "      <td>1</td>\n",
       "      <td>1</td>\n",
       "      <td>26</td>\n",
       "      <td>(yal025c  mak16, yer133w  glc7)</td>\n",
       "    </tr>\n",
       "    <tr>\n",
       "      <th>...</th>\n",
       "      <td>...</td>\n",
       "      <td>...</td>\n",
       "      <td>...</td>\n",
       "      <td>...</td>\n",
       "      <td>...</td>\n",
       "      <td>...</td>\n",
       "      <td>...</td>\n",
       "      <td>...</td>\n",
       "      <td>...</td>\n",
       "      <td>...</td>\n",
       "      <td>...</td>\n",
       "      <td>...</td>\n",
       "      <td>...</td>\n",
       "      <td>...</td>\n",
       "      <td>...</td>\n",
       "    </tr>\n",
       "    <tr>\n",
       "      <th>2068317</th>\n",
       "      <td>ypl256c  cln2</td>\n",
       "      <td>ypr081c  grs2</td>\n",
       "      <td>4889</td>\n",
       "      <td>4975</td>\n",
       "      <td>1</td>\n",
       "      <td>-0.0140</td>\n",
       "      <td>0.9046</td>\n",
       "      <td>0.0197</td>\n",
       "      <td>1.0275</td>\n",
       "      <td>0.8940</td>\n",
       "      <td>3.055000e-01</td>\n",
       "      <td>0</td>\n",
       "      <td>0</td>\n",
       "      <td>26</td>\n",
       "      <td>(ypl256c  cln2, ypr081c  grs2)</td>\n",
       "    </tr>\n",
       "    <tr>\n",
       "      <th>2068318</th>\n",
       "      <td>ypl262w  fum1</td>\n",
       "      <td>ypr081c  grs2</td>\n",
       "      <td>4895</td>\n",
       "      <td>4975</td>\n",
       "      <td>1</td>\n",
       "      <td>-0.0098</td>\n",
       "      <td>0.7215</td>\n",
       "      <td>0.0076</td>\n",
       "      <td>0.8180</td>\n",
       "      <td>0.8940</td>\n",
       "      <td>2.073000e-01</td>\n",
       "      <td>0</td>\n",
       "      <td>0</td>\n",
       "      <td>26</td>\n",
       "      <td>(ypl262w  fum1, ypr081c  grs2)</td>\n",
       "    </tr>\n",
       "    <tr>\n",
       "      <th>2068319</th>\n",
       "      <td>ypl265w  dip5</td>\n",
       "      <td>ypr081c  grs2</td>\n",
       "      <td>4897</td>\n",
       "      <td>4975</td>\n",
       "      <td>1</td>\n",
       "      <td>-0.0150</td>\n",
       "      <td>0.8995</td>\n",
       "      <td>0.0377</td>\n",
       "      <td>1.0230</td>\n",
       "      <td>0.8940</td>\n",
       "      <td>3.515000e-01</td>\n",
       "      <td>0</td>\n",
       "      <td>0</td>\n",
       "      <td>26</td>\n",
       "      <td>(ypl265w  dip5, ypr081c  grs2)</td>\n",
       "    </tr>\n",
       "    <tr>\n",
       "      <th>2068320</th>\n",
       "      <td>ypl269w  kar9</td>\n",
       "      <td>ypr081c  grs2</td>\n",
       "      <td>4901</td>\n",
       "      <td>4975</td>\n",
       "      <td>1</td>\n",
       "      <td>-0.0009</td>\n",
       "      <td>0.9204</td>\n",
       "      <td>0.0242</td>\n",
       "      <td>1.0305</td>\n",
       "      <td>0.8940</td>\n",
       "      <td>4.881000e-01</td>\n",
       "      <td>0</td>\n",
       "      <td>0</td>\n",
       "      <td>26</td>\n",
       "      <td>(ypl269w  kar9, ypr081c  grs2)</td>\n",
       "    </tr>\n",
       "    <tr>\n",
       "      <th>2068321</th>\n",
       "      <td>ypl270w  mdl2</td>\n",
       "      <td>ypr081c  grs2</td>\n",
       "      <td>4902</td>\n",
       "      <td>4975</td>\n",
       "      <td>1</td>\n",
       "      <td>-0.0608</td>\n",
       "      <td>0.7949</td>\n",
       "      <td>0.0535</td>\n",
       "      <td>0.9572</td>\n",
       "      <td>0.8940</td>\n",
       "      <td>1.704000e-01</td>\n",
       "      <td>0</td>\n",
       "      <td>0</td>\n",
       "      <td>26</td>\n",
       "      <td>(ypl270w  mdl2, ypr081c  grs2)</td>\n",
       "    </tr>\n",
       "  </tbody>\n",
       "</table>\n",
       "<p>2068322 rows × 15 columns</p>\n",
       "</div>"
      ],
      "text/plain": [
       "                       a               b  a_id  b_id  bin      gi      cs  \\\n",
       "0          ybr142w  mak5  yal025c  mak16   309    38    0 -0.1636  0.3203   \n",
       "1         ydl132w  cdc53  yal025c  mak16   681    38    0 -0.1697  0.1564   \n",
       "2          ydr081c  pdc2  yal025c  mak16   849    38    0 -0.0979  0.1482   \n",
       "3        ydr356w  spc110  yal025c  mak16  1088    38    0 -0.0917  0.4586   \n",
       "4          yer133w  glc7  yal025c  mak16  1430    38    0 -0.0900  0.4456   \n",
       "...                  ...             ...   ...   ...  ...     ...     ...   \n",
       "2068317    ypl256c  cln2   ypr081c  grs2  4889  4975    1 -0.0140  0.9046   \n",
       "2068318    ypl262w  fum1   ypr081c  grs2  4895  4975    1 -0.0098  0.7215   \n",
       "2068319    ypl265w  dip5   ypr081c  grs2  4897  4975    1 -0.0150  0.8995   \n",
       "2068320    ypl269w  kar9   ypr081c  grs2  4901  4975    1 -0.0009  0.9204   \n",
       "2068321    ypl270w  mdl2   ypr081c  grs2  4902  4975    1 -0.0608  0.7949   \n",
       "\n",
       "            std    a_cs    b_cs       p_value  a_essential  b_essential  temp  \\\n",
       "0        0.0892  0.7052  0.6862  1.112000e-03            1            1    26   \n",
       "1        0.0327  0.4752  0.6862  2.885000e-06            1            1    26   \n",
       "2        0.0328  0.3586  0.6862  4.467000e-03            1            1    26   \n",
       "3        0.0062  0.8019  0.6862  1.041000e-27            1            1    26   \n",
       "4        0.0526  0.7806  0.6862  2.885000e-02            1            1    26   \n",
       "...         ...     ...     ...           ...          ...          ...   ...   \n",
       "2068317  0.0197  1.0275  0.8940  3.055000e-01            0            0    26   \n",
       "2068318  0.0076  0.8180  0.8940  2.073000e-01            0            0    26   \n",
       "2068319  0.0377  1.0230  0.8940  3.515000e-01            0            0    26   \n",
       "2068320  0.0242  1.0305  0.8940  4.881000e-01            0            0    26   \n",
       "2068321  0.0535  0.9572  0.8940  1.704000e-01            0            0    26   \n",
       "\n",
       "                                      pair  \n",
       "0          (yal025c  mak16, ybr142w  mak5)  \n",
       "1         (yal025c  mak16, ydl132w  cdc53)  \n",
       "2          (yal025c  mak16, ydr081c  pdc2)  \n",
       "3        (yal025c  mak16, ydr356w  spc110)  \n",
       "4          (yal025c  mak16, yer133w  glc7)  \n",
       "...                                    ...  \n",
       "2068317     (ypl256c  cln2, ypr081c  grs2)  \n",
       "2068318     (ypl262w  fum1, ypr081c  grs2)  \n",
       "2068319     (ypl265w  dip5, ypr081c  grs2)  \n",
       "2068320     (ypl269w  kar9, ypr081c  grs2)  \n",
       "2068321     (ypl270w  mdl2, ypr081c  grs2)  \n",
       "\n",
       "[2068322 rows x 15 columns]"
      ]
     },
     "execution_count": 8,
     "metadata": {},
     "output_type": "execute_result"
    }
   ],
   "source": [
    "costanzo_df"
   ]
  },
  {
   "cell_type": "code",
   "execution_count": 15,
   "id": "ac8a0911-ae56-4170-81dc-0fbeb949c50f",
   "metadata": {},
   "outputs": [],
   "source": [
    "# neg_gi_ix = costanzo_df['gi'] < -0.08\n",
    "# pos_gi_ix = costanzo_df['gi'] > 0.08\n",
    "# all_ix = neg_gi_ix | pos_gi_ix\n",
    "all_ix = costanzo_df['bin'] != 1"
   ]
  },
  {
   "cell_type": "code",
   "execution_count": 16,
   "id": "5a86b72b-415d-4aff-bf92-d467c287c837",
   "metadata": {},
   "outputs": [],
   "source": [
    "costanzo_gi_ix = all_ix\n",
    "hybrid_gi_ix = hybrid_df['bin'] != 1"
   ]
  },
  {
   "cell_type": "code",
   "execution_count": 17,
   "id": "07efbfa4-aa25-480c-888a-589711079bce",
   "metadata": {},
   "outputs": [],
   "source": [
    "costanzo_pairs = set(costanzo_df[costanzo_gi_ix]['pair'])\n",
    "hybrid_pairs = set(hybrid_df[hybrid_gi_ix]['pair'])"
   ]
  },
  {
   "cell_type": "code",
   "execution_count": 18,
   "id": "fa07d155-a0b4-4f41-be2b-86434ee41bbf",
   "metadata": {},
   "outputs": [
    {
     "data": {
      "text/plain": [
       "132298"
      ]
     },
     "execution_count": 18,
     "metadata": {},
     "output_type": "execute_result"
    }
   ],
   "source": [
    "len(costanzo_pairs)"
   ]
  },
  {
   "cell_type": "code",
   "execution_count": 19,
   "id": "e1d401cc-7e71-402e-8196-10a3540e008b",
   "metadata": {},
   "outputs": [
    {
     "data": {
      "text/plain": [
       "21308"
      ]
     },
     "execution_count": 19,
     "metadata": {},
     "output_type": "execute_result"
    }
   ],
   "source": [
    "len(hybrid_pairs)"
   ]
  },
  {
   "cell_type": "code",
   "execution_count": 20,
   "id": "9365eead-2654-4f18-8172-87ff88a604f5",
   "metadata": {},
   "outputs": [
    {
     "data": {
      "text/plain": [
       "18685"
      ]
     },
     "execution_count": 20,
     "metadata": {},
     "output_type": "execute_result"
    }
   ],
   "source": [
    "len(hybrid_pairs - costanzo_pairs)"
   ]
  },
  {
   "cell_type": "code",
   "execution_count": null,
   "id": "c73b13d9-f10b-47c7-8c83-a912cd1c0e04",
   "metadata": {},
   "outputs": [],
   "source": []
  }
 ],
 "metadata": {
  "kernelspec": {
   "display_name": "Python 3 (ipykernel)",
   "language": "python",
   "name": "python3"
  },
  "language_info": {
   "codemirror_mode": {
    "name": "ipython",
    "version": 3
   },
   "file_extension": ".py",
   "mimetype": "text/x-python",
   "name": "python",
   "nbconvert_exporter": "python",
   "pygments_lexer": "ipython3",
   "version": "3.8.10"
  }
 },
 "nbformat": 4,
 "nbformat_minor": 5
}
