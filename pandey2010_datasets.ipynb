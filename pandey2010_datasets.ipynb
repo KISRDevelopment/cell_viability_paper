{
 "cells": [
  {
   "cell_type": "code",
   "execution_count": 167,
   "id": "834fe972-d2ce-4c28-9640-a306a591ba8f",
   "metadata": {},
   "outputs": [],
   "source": [
    "import pandas as pd\n",
    "import numpy as np\n",
    "import utils.yeast_name_resolver as nr\n",
    "\n",
    "res = nr.NameResolver()"
   ]
  },
  {
   "cell_type": "code",
   "execution_count": 174,
   "id": "a47149dc-91bf-4694-8a38-0f338df9b298",
   "metadata": {},
   "outputs": [],
   "source": [
    "def get_hit_bait(s):\n",
    "    \n",
    "    part_a, part_b = s.split('|')\n",
    "    \n",
    "    a, a_type = part_a.split(' ')\n",
    "    b, b_type = part_b.split(' ')\n",
    "    \n",
    "    if a_type == '(Bait)':\n",
    "        assert b_type == '(Hit)'\n",
    "        return b, a \n",
    "    else:\n",
    "        assert b_type == '(Bait)'\n",
    "        return a, b"
   ]
  },
  {
   "cell_type": "code",
   "execution_count": 177,
   "id": "784044b9-958d-4ef6-a556-95919723a411",
   "metadata": {},
   "outputs": [
    {
     "data": {
      "text/html": [
       "<div>\n",
       "<style scoped>\n",
       "    .dataframe tbody tr th:only-of-type {\n",
       "        vertical-align: middle;\n",
       "    }\n",
       "\n",
       "    .dataframe tbody tr th {\n",
       "        vertical-align: top;\n",
       "    }\n",
       "\n",
       "    .dataframe thead th {\n",
       "        text-align: right;\n",
       "    }\n",
       "</style>\n",
       "<table border=\"1\" class=\"dataframe\">\n",
       "  <thead>\n",
       "    <tr style=\"text-align: right;\">\n",
       "      <th></th>\n",
       "      <th>type</th>\n",
       "      <th>pair</th>\n",
       "      <th>hit</th>\n",
       "      <th>bait</th>\n",
       "    </tr>\n",
       "  </thead>\n",
       "  <tbody>\n",
       "    <tr>\n",
       "      <th>0</th>\n",
       "      <td>Synthetic Lethality</td>\n",
       "      <td>YFL039C (Bait)|YBR243C (Hit)</td>\n",
       "      <td>YBR243C</td>\n",
       "      <td>YFL039C</td>\n",
       "    </tr>\n",
       "    <tr>\n",
       "      <th>1</th>\n",
       "      <td>Synthetic Lethality</td>\n",
       "      <td>YFL039C (Bait)|YKL052C (Hit)</td>\n",
       "      <td>YKL052C</td>\n",
       "      <td>YFL039C</td>\n",
       "    </tr>\n",
       "    <tr>\n",
       "      <th>2</th>\n",
       "      <td>Synthetic Lethality</td>\n",
       "      <td>YFL039C (Bait)|YPR105C (Hit)</td>\n",
       "      <td>YPR105C</td>\n",
       "      <td>YFL039C</td>\n",
       "    </tr>\n",
       "    <tr>\n",
       "      <th>3</th>\n",
       "      <td>Synthetic Lethality</td>\n",
       "      <td>YFL039C (Bait)|YGR175C (Hit)</td>\n",
       "      <td>YGR175C</td>\n",
       "      <td>YFL039C</td>\n",
       "    </tr>\n",
       "    <tr>\n",
       "      <th>4</th>\n",
       "      <td>Synthetic Lethality</td>\n",
       "      <td>YFL039C (Bait)|YLR060W (Hit)</td>\n",
       "      <td>YLR060W</td>\n",
       "      <td>YFL039C</td>\n",
       "    </tr>\n",
       "    <tr>\n",
       "      <th>...</th>\n",
       "      <td>...</td>\n",
       "      <td>...</td>\n",
       "      <td>...</td>\n",
       "      <td>...</td>\n",
       "    </tr>\n",
       "    <tr>\n",
       "      <th>99631</th>\n",
       "      <td>Synthetic Lethality</td>\n",
       "      <td>YHR170W (Bait)|YDR101C (Hit)</td>\n",
       "      <td>YDR101C</td>\n",
       "      <td>YHR170W</td>\n",
       "    </tr>\n",
       "    <tr>\n",
       "      <th>99632</th>\n",
       "      <td>Synthetic Lethality</td>\n",
       "      <td>YHR170W (Bait)|YPL169C (Hit)</td>\n",
       "      <td>YPL169C</td>\n",
       "      <td>YHR170W</td>\n",
       "    </tr>\n",
       "    <tr>\n",
       "      <th>99633</th>\n",
       "      <td>Synthetic Lethality</td>\n",
       "      <td>YHR170W (Bait)|YKL186C (Hit)</td>\n",
       "      <td>YKL186C</td>\n",
       "      <td>YHR170W</td>\n",
       "    </tr>\n",
       "    <tr>\n",
       "      <th>99634</th>\n",
       "      <td>Synthetic Growth Defect</td>\n",
       "      <td>YDR101C (Bait)|YPL169C (Hit)</td>\n",
       "      <td>YPL169C</td>\n",
       "      <td>YDR101C</td>\n",
       "    </tr>\n",
       "    <tr>\n",
       "      <th>99635</th>\n",
       "      <td>Synthetic Lethality</td>\n",
       "      <td>YDR101C (Bait)|YKL186C (Hit)</td>\n",
       "      <td>YKL186C</td>\n",
       "      <td>YDR101C</td>\n",
       "    </tr>\n",
       "  </tbody>\n",
       "</table>\n",
       "<p>99636 rows × 4 columns</p>\n",
       "</div>"
      ],
      "text/plain": [
       "                          type                          pair      hit     bait\n",
       "0          Synthetic Lethality  YFL039C (Bait)|YBR243C (Hit)  YBR243C  YFL039C\n",
       "1          Synthetic Lethality  YFL039C (Bait)|YKL052C (Hit)  YKL052C  YFL039C\n",
       "2          Synthetic Lethality  YFL039C (Bait)|YPR105C (Hit)  YPR105C  YFL039C\n",
       "3          Synthetic Lethality  YFL039C (Bait)|YGR175C (Hit)  YGR175C  YFL039C\n",
       "4          Synthetic Lethality  YFL039C (Bait)|YLR060W (Hit)  YLR060W  YFL039C\n",
       "...                        ...                           ...      ...      ...\n",
       "99631      Synthetic Lethality  YHR170W (Bait)|YDR101C (Hit)  YDR101C  YHR170W\n",
       "99632      Synthetic Lethality  YHR170W (Bait)|YPL169C (Hit)  YPL169C  YHR170W\n",
       "99633      Synthetic Lethality  YHR170W (Bait)|YKL186C (Hit)  YKL186C  YHR170W\n",
       "99634  Synthetic Growth Defect  YDR101C (Bait)|YPL169C (Hit)  YPL169C  YDR101C\n",
       "99635      Synthetic Lethality  YDR101C (Bait)|YKL186C (Hit)  YKL186C  YDR101C\n",
       "\n",
       "[99636 rows x 4 columns]"
      ]
     },
     "execution_count": 177,
     "metadata": {},
     "output_type": "execute_result"
    }
   ],
   "source": [
    "df = pd.read_csv(\"../data-sources/yeast/interactions.tab.20080517\", sep=\"\\t\", header=None)\n",
    "df = df[[0, 1]]\n",
    "df.columns = ['type', 'pair']\n",
    "\n",
    "pairs = [get_hit_bait(p) for p in df['pair']]\n",
    "df['hit'] = [p[0] for p in pairs]\n",
    "df['bait'] = [p[1] for p in pairs]\n",
    "df"
   ]
  },
  {
   "cell_type": "code",
   "execution_count": 178,
   "id": "d9cf5cee-9817-47e3-a603-328bedcd0ac6",
   "metadata": {},
   "outputs": [
    {
     "data": {
      "text/html": [
       "<div>\n",
       "<style scoped>\n",
       "    .dataframe tbody tr th:only-of-type {\n",
       "        vertical-align: middle;\n",
       "    }\n",
       "\n",
       "    .dataframe tbody tr th {\n",
       "        vertical-align: top;\n",
       "    }\n",
       "\n",
       "    .dataframe thead th {\n",
       "        text-align: right;\n",
       "    }\n",
       "</style>\n",
       "<table border=\"1\" class=\"dataframe\">\n",
       "  <thead>\n",
       "    <tr style=\"text-align: right;\">\n",
       "      <th></th>\n",
       "      <th>type</th>\n",
       "      <th>pair</th>\n",
       "      <th>hit</th>\n",
       "      <th>bait</th>\n",
       "    </tr>\n",
       "  </thead>\n",
       "  <tbody>\n",
       "    <tr>\n",
       "      <th>0</th>\n",
       "      <td>Synthetic Lethality</td>\n",
       "      <td>YFL039C (Bait)|YBR243C (Hit)</td>\n",
       "      <td>YBR243C</td>\n",
       "      <td>YFL039C</td>\n",
       "    </tr>\n",
       "    <tr>\n",
       "      <th>1</th>\n",
       "      <td>Synthetic Lethality</td>\n",
       "      <td>YFL039C (Bait)|YKL052C (Hit)</td>\n",
       "      <td>YKL052C</td>\n",
       "      <td>YFL039C</td>\n",
       "    </tr>\n",
       "    <tr>\n",
       "      <th>2</th>\n",
       "      <td>Synthetic Lethality</td>\n",
       "      <td>YFL039C (Bait)|YPR105C (Hit)</td>\n",
       "      <td>YPR105C</td>\n",
       "      <td>YFL039C</td>\n",
       "    </tr>\n",
       "    <tr>\n",
       "      <th>3</th>\n",
       "      <td>Synthetic Lethality</td>\n",
       "      <td>YFL039C (Bait)|YGR175C (Hit)</td>\n",
       "      <td>YGR175C</td>\n",
       "      <td>YFL039C</td>\n",
       "    </tr>\n",
       "    <tr>\n",
       "      <th>4</th>\n",
       "      <td>Synthetic Lethality</td>\n",
       "      <td>YFL039C (Bait)|YLR060W (Hit)</td>\n",
       "      <td>YLR060W</td>\n",
       "      <td>YFL039C</td>\n",
       "    </tr>\n",
       "    <tr>\n",
       "      <th>...</th>\n",
       "      <td>...</td>\n",
       "      <td>...</td>\n",
       "      <td>...</td>\n",
       "      <td>...</td>\n",
       "    </tr>\n",
       "    <tr>\n",
       "      <th>99621</th>\n",
       "      <td>Synthetic Lethality</td>\n",
       "      <td>YDR101C (Bait)|YKL057C (Hit)</td>\n",
       "      <td>YKL057C</td>\n",
       "      <td>YDR101C</td>\n",
       "    </tr>\n",
       "    <tr>\n",
       "      <th>99631</th>\n",
       "      <td>Synthetic Lethality</td>\n",
       "      <td>YHR170W (Bait)|YDR101C (Hit)</td>\n",
       "      <td>YDR101C</td>\n",
       "      <td>YHR170W</td>\n",
       "    </tr>\n",
       "    <tr>\n",
       "      <th>99632</th>\n",
       "      <td>Synthetic Lethality</td>\n",
       "      <td>YHR170W (Bait)|YPL169C (Hit)</td>\n",
       "      <td>YPL169C</td>\n",
       "      <td>YHR170W</td>\n",
       "    </tr>\n",
       "    <tr>\n",
       "      <th>99633</th>\n",
       "      <td>Synthetic Lethality</td>\n",
       "      <td>YHR170W (Bait)|YKL186C (Hit)</td>\n",
       "      <td>YKL186C</td>\n",
       "      <td>YHR170W</td>\n",
       "    </tr>\n",
       "    <tr>\n",
       "      <th>99635</th>\n",
       "      <td>Synthetic Lethality</td>\n",
       "      <td>YDR101C (Bait)|YKL186C (Hit)</td>\n",
       "      <td>YKL186C</td>\n",
       "      <td>YDR101C</td>\n",
       "    </tr>\n",
       "  </tbody>\n",
       "</table>\n",
       "<p>11134 rows × 4 columns</p>\n",
       "</div>"
      ],
      "text/plain": [
       "                      type                          pair      hit     bait\n",
       "0      Synthetic Lethality  YFL039C (Bait)|YBR243C (Hit)  YBR243C  YFL039C\n",
       "1      Synthetic Lethality  YFL039C (Bait)|YKL052C (Hit)  YKL052C  YFL039C\n",
       "2      Synthetic Lethality  YFL039C (Bait)|YPR105C (Hit)  YPR105C  YFL039C\n",
       "3      Synthetic Lethality  YFL039C (Bait)|YGR175C (Hit)  YGR175C  YFL039C\n",
       "4      Synthetic Lethality  YFL039C (Bait)|YLR060W (Hit)  YLR060W  YFL039C\n",
       "...                    ...                           ...      ...      ...\n",
       "99621  Synthetic Lethality  YDR101C (Bait)|YKL057C (Hit)  YKL057C  YDR101C\n",
       "99631  Synthetic Lethality  YHR170W (Bait)|YDR101C (Hit)  YDR101C  YHR170W\n",
       "99632  Synthetic Lethality  YHR170W (Bait)|YPL169C (Hit)  YPL169C  YHR170W\n",
       "99633  Synthetic Lethality  YHR170W (Bait)|YKL186C (Hit)  YKL186C  YHR170W\n",
       "99635  Synthetic Lethality  YDR101C (Bait)|YKL186C (Hit)  YKL186C  YDR101C\n",
       "\n",
       "[11134 rows x 4 columns]"
      ]
     },
     "execution_count": 178,
     "metadata": {},
     "output_type": "execute_result"
    }
   ],
   "source": [
    "sdf = df[df['type'] == 'Synthetic Lethality']\n",
    "sdf"
   ]
  },
  {
   "cell_type": "code",
   "execution_count": 179,
   "id": "b7be7410-3137-488d-9711-89942d9885e3",
   "metadata": {},
   "outputs": [
    {
     "name": "stdout",
     "output_type": "stream",
     "text": [
      "SL Pairs: 9996, Genes: 2502\n"
     ]
    }
   ],
   "source": [
    "sl_pairs = set([tuple(sorted((a, b))) for a, b in zip(sdf['hit'], sdf['bait'])])\n",
    "sl_genes = set([p[0] for p in sl_pairs]) | set([p[1] for p in sl_pairs])\n",
    "print(\"SL Pairs: %d, Genes: %d\" % (len(sl_pairs), len(sl_genes)))"
   ]
  },
  {
   "cell_type": "code",
   "execution_count": 189,
   "id": "a480815d-1c77-4f12-b7b4-724744f02e42",
   "metadata": {},
   "outputs": [
    {
     "data": {
      "text/plain": [
       "1885"
      ]
     },
     "execution_count": 189,
     "metadata": {},
     "output_type": "execute_result"
    }
   ],
   "source": [
    "hits_no_sl = set(df['hit']) - sl_genes\n",
    "baits_no_sl = set(df['bait']) - sl_genes\n",
    "len(baits_no_sl)"
   ]
  },
  {
   "cell_type": "code",
   "execution_count": 158,
   "id": "965be5d6-527b-42e4-866a-407c37512d9c",
   "metadata": {},
   "outputs": [],
   "source": [
    "gi_systems = {\n",
    " 'Dosage Growth Defect',\n",
    " 'Dosage Lethality',\n",
    " 'Dosage Rescue',\n",
    " 'Phenotypic Enhancement',\n",
    " 'Phenotypic Suppression',\n",
    " 'Synthetic Growth Defect',\n",
    " 'Synthetic Lethality',\n",
    " 'Synthetic Rescue'}"
   ]
  },
  {
   "cell_type": "code",
   "execution_count": 191,
   "id": "46af33a9-4982-4a64-99aa-d4abbb5e83ba",
   "metadata": {},
   "outputs": [
    {
     "data": {
      "text/plain": [
       "1872"
      ]
     },
     "execution_count": 191,
     "metadata": {},
     "output_type": "execute_result"
    }
   ],
   "source": [
    "ix = df['type'].isin(gi_systems) & (df['type'] != 'Synthetic Lethality')\n",
    "non_sdf = df[ix]\n",
    "nonsl_genes = set([p for p in non_sdf['hit']]) | set([p for p in non_sdf['bait']])\n",
    "len(nonsl_genes - sl_genes)"
   ]
  },
  {
   "cell_type": "code",
   "execution_count": null,
   "id": "1532a6d9-e380-4838-9978-dde2fc8be724",
   "metadata": {},
   "outputs": [],
   "source": []
  }
 ],
 "metadata": {
  "kernelspec": {
   "display_name": "Python 3 (ipykernel)",
   "language": "python",
   "name": "python3"
  },
  "language_info": {
   "codemirror_mode": {
    "name": "ipython",
    "version": 3
   },
   "file_extension": ".py",
   "mimetype": "text/x-python",
   "name": "python",
   "nbconvert_exporter": "python",
   "pygments_lexer": "ipython3",
   "version": "3.8.10"
  }
 },
 "nbformat": 4,
 "nbformat_minor": 5
}
