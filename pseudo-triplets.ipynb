{
 "cells": [
  {
   "cell_type": "code",
   "execution_count": 51,
   "metadata": {},
   "outputs": [],
   "source": [
    "import numpy as np\n",
    "import pandas as pd\n",
    "import json\n",
    "import matplotlib.pyplot as plt\n",
    "import seaborn as sns\n",
    "import analysis.grouped_analysis as ga\n",
    "from collections import defaultdict\n",
    "import scipy.stats as stats\n",
    "import utils.eval_funcs as eval_funcs\n",
    "import numpy.random as rng\n",
    "import networkx as nx\n",
    "import string"
   ]
  },
  {
   "cell_type": "code",
   "execution_count": 5,
   "metadata": {},
   "outputs": [],
   "source": [
    "plt.rcParams[\"font.family\"] = \"Liberation Serif\"\n",
    "plt.rcParams[\"font.weight\"] = \"bold\"\n",
    "plot_cfg = {\n",
    "    \"tick_label_size\" : 50,\n",
    "    \"xlabel_size\" : 60,\n",
    "    \"ylabel_size\" : 60,\n",
    "    \"border_size\" : 6,\n",
    "    \"bar_border_size\" : 2.5,\n",
    "    \"bar_label_size\" : 32,\n",
    "    \"stars_label_size\" : 48,\n",
    "    \"annot_size\" : 72,\n",
    "    \"max_cm_classes\" : 4,\n",
    "    \"legend_size\" : 42,\n",
    "    \"max_bars\" : 4\n",
    "}\n"
   ]
  },
  {
   "cell_type": "code",
   "execution_count": 6,
   "metadata": {},
   "outputs": [],
   "source": [
    "genes_to_complexes = ga.parse_yeast_complexes()\n",
    "genes_to_pathways =  ga.parse_kegg_pathways()"
   ]
  },
  {
   "cell_type": "code",
   "execution_count": 7,
   "metadata": {},
   "outputs": [],
   "source": [
    "genes_to_cp = defaultdict(lambda: { \"complexes\" : set(), \"pathways\" : set() })\n",
    "\n",
    "for k, v in genes_to_complexes.items():\n",
    "    genes_to_cp[k][\"complexes\"] = v \n",
    "        \n",
    "for k,v in genes_to_pathways.items():\n",
    "    genes_to_cp[k][\"pathways\"] = v "
   ]
  },
  {
   "cell_type": "code",
   "execution_count": 19,
   "metadata": {},
   "outputs": [],
   "source": [
    "group = 'complexes'\n",
    "\n",
    "genes_to_groups = genes_to_complexes if group == 'complexes' else genes_to_pathways\n",
    "all_groups = []\n",
    "for k, v in genes_to_groups.items():\n",
    "    all_groups.extend(v) "
   ]
  },
  {
   "cell_type": "code",
   "execution_count": 20,
   "metadata": {},
   "outputs": [
    {
     "name": "stdout",
     "output_type": "stream",
     "text": [
      "No. groups:  408\n",
      "No. Genes associated with a group:  1627\n",
      "No. Genes associated with only one group:  1416\n",
      "No. Genes removed due to involvement in multiple groups:  211\n"
     ]
    }
   ],
   "source": [
    "n_groups = len(set(all_groups))\n",
    "print(\"No. groups: \", n_groups)\n",
    "n_assoc = len(genes_to_groups)\n",
    "print(\"No. Genes associated with a group: \", n_assoc)\n",
    "genes_to_group = { g: list(v)[0] for g,v in genes_to_groups.items() if len(v) == 1}\n",
    "n_one_pathway = len(genes_to_group)\n",
    "print(\"No. Genes associated with only one group: \", n_one_pathway)\n",
    "n_multiple_pathways = n_assoc - n_one_pathway\n",
    "print(\"No. Genes removed due to involvement in multiple groups: \", n_multiple_pathways)"
   ]
  },
  {
   "cell_type": "code",
   "execution_count": 65,
   "metadata": {},
   "outputs": [],
   "source": [
    "group_to_genes = defaultdict(set)\n",
    "G = nx.read_gpickle('../generated-data/ppc_yeast')\n",
    "node_ix = dict(zip(sorted(G.nodes()), range(len(G.nodes()))))\n",
    "eligible_genes = set()\n",
    "for gene, group in genes_to_group.items():\n",
    "    if gene in node_ix:\n",
    "        group_to_genes[group].add(gene)\n",
    "        eligible_genes.add(gene)\n",
    "eligible_genes = list(eligible_genes)"
   ]
  },
  {
   "cell_type": "code",
   "execution_count": 70,
   "metadata": {},
   "outputs": [],
   "source": [
    "import random\n",
    "triplets_in_same_complex = set()\n",
    "N_SAMPLES = 5000\n",
    "groups = list(group_to_genes)\n",
    "groups = [g for g in groups if len(group_to_genes[g]) >= 3]\n",
    "while len(triplets_in_same_complex) < N_SAMPLES:\n",
    "    \n",
    "    # pick a random complex\n",
    "    group = rng.choice(groups)\n",
    "    \n",
    "    # sample three genes\n",
    "    genes = list(group_to_genes[group])\n",
    "    triplet = tuple(sorted(rng.choice(genes, size=3, replace=False)))\n",
    "    \n",
    "    triplets_in_same_complex.add(triplet)\n",
    "    "
   ]
  },
  {
   "cell_type": "code",
   "execution_count": 71,
   "metadata": {},
   "outputs": [],
   "source": [
    "triplets_in_diff_complexes = set()\n",
    "while len(triplets_in_diff_complexes) < N_SAMPLES:\n",
    "    \n",
    "    # sample three genes\n",
    "    triplet = tuple(sorted(rng.choice(eligible_genes, size=3, replace=False)))\n",
    "    \n",
    "    a,b,c = triplet\n",
    "    if (genes_to_group[a] != genes_to_group[b]) or (genes_to_group[a] != genes_to_group[c]) or (genes_to_group[b] != genes_to_group[c]):\n",
    "        triplets_in_diff_complexes.add(triplet)"
   ]
  },
  {
   "cell_type": "code",
   "execution_count": 73,
   "metadata": {},
   "outputs": [],
   "source": [
    "\n",
    "rows = [{\n",
    "        \"a\" : a,\n",
    "        \"b\" : b,\n",
    "        \"c\" : c,\n",
    "        \"bin\" : 0,\n",
    "        \"a_id\" : node_ix[a],\n",
    "        \"b_id\" : node_ix[b],\n",
    "        \"c_id\" : node_ix[c] }\n",
    "        for a,b,c in triplets_in_same_complex\n",
    "] + [ {\n",
    "        \"a\" : a,\n",
    "        \"b\" : b,\n",
    "        \"c\" : c,\n",
    "        \"bin\" : 1,\n",
    "        \"a_id\" : node_ix[a],\n",
    "        \"b_id\" : node_ix[b],\n",
    "        \"c_id\" : node_ix[c] }\n",
    "        for a,b,c in triplets_in_diff_complexes\n",
    "]\n",
    "df = pd.DataFrame(rows)\n",
    "df.to_csv('../generated-data/task_ppc_yeast_pseudo_triplets', index=False)"
   ]
  },
  {
   "cell_type": "code",
   "execution_count": null,
   "metadata": {},
   "outputs": [],
   "source": []
  }
 ],
 "metadata": {
  "kernelspec": {
   "display_name": "Python 3 (ipykernel)",
   "language": "python",
   "name": "python3"
  },
  "language_info": {
   "codemirror_mode": {
    "name": "ipython",
    "version": 3
   },
   "file_extension": ".py",
   "mimetype": "text/x-python",
   "name": "python",
   "nbconvert_exporter": "python",
   "pygments_lexer": "ipython3",
   "version": "3.8.10"
  }
 },
 "nbformat": 4,
 "nbformat_minor": 4
}
