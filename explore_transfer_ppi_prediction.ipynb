{
 "cells": [
  {
   "cell_type": "code",
   "execution_count": 1,
   "id": "2fb1f56a-533b-4cf2-ab61-58f4fa457b85",
   "metadata": {},
   "outputs": [],
   "source": [
    "import numpy as np\n",
    "import pandas as pd"
   ]
  },
  {
   "cell_type": "code",
   "execution_count": 2,
   "id": "06842b47-5795-44d5-b333-211e06a5c605",
   "metadata": {},
   "outputs": [],
   "source": [
    "df = pd.read_csv(\"../generated-data/costanzo_gi\")"
   ]
  },
  {
   "cell_type": "code",
   "execution_count": 11,
   "id": "d3cedebe-38aa-4720-845c-e29031fd1116",
   "metadata": {},
   "outputs": [],
   "source": [
    "df['pair'] = [tuple(sorted((a,b))) for a,b in zip(df['a'],df['b'])]"
   ]
  },
  {
   "cell_type": "code",
   "execution_count": 12,
   "id": "170d2cd8-ae2b-4c67-88ec-b865cf9d766e",
   "metadata": {},
   "outputs": [
    {
     "data": {
      "text/plain": [
       "3084707"
      ]
     },
     "execution_count": 12,
     "metadata": {},
     "output_type": "execute_result"
    }
   ],
   "source": [
    "pairs = set(df[df['temp']==26]['pair'])\n",
    "len(pairs)"
   ]
  },
  {
   "cell_type": "code",
   "execution_count": 13,
   "id": "690ce999-b76a-4355-adec-3228d6473fb1",
   "metadata": {},
   "outputs": [
    {
     "data": {
      "text/plain": [
       "9431297"
      ]
     },
     "execution_count": 13,
     "metadata": {},
     "output_type": "execute_result"
    }
   ],
   "source": [
    "pairs = set(df[df['temp']==30]['pair'])\n",
    "len(pairs)"
   ]
  },
  {
   "cell_type": "code",
   "execution_count": 17,
   "id": "b494ead6-97b5-4121-b944-e7a215dc8c39",
   "metadata": {},
   "outputs": [],
   "source": [
    "tdf = pd.read_csv(\"../generated-data/task_yeast_tgi\")"
   ]
  },
  {
   "cell_type": "code",
   "execution_count": 18,
   "id": "4cacec79-efa8-4ab6-ad92-d514de8d5e14",
   "metadata": {},
   "outputs": [
    {
     "data": {
      "text/plain": [
       "(74463, 7)"
      ]
     },
     "execution_count": 18,
     "metadata": {},
     "output_type": "execute_result"
    }
   ],
   "source": [
    "tdf.shape"
   ]
  },
  {
   "cell_type": "code",
   "execution_count": 19,
   "id": "6f7f37ed-91e4-4b1d-b505-2d3c518ed8af",
   "metadata": {},
   "outputs": [],
   "source": [
    "df = pd.read_csv(\"../generated-data/task_yeast_gi_hybrid\")\n",
    "split = np.load(\"../generated-data/splits/task_yeast_gi_hybrid_full.npz\")"
   ]
  },
  {
   "cell_type": "code",
   "execution_count": 20,
   "id": "2b1428b6-7232-49e8-9710-5703dabbf7ef",
   "metadata": {},
   "outputs": [
    {
     "data": {
      "text/plain": [
       "['train_sets', 'valid_sets', 'test_sets', 'reps', 'folds', 'valid_prop']"
      ]
     },
     "execution_count": 20,
     "metadata": {},
     "output_type": "execute_result"
    }
   ],
   "source": [
    "list(split.keys())"
   ]
  },
  {
   "cell_type": "code",
   "execution_count": 21,
   "id": "d74f2266-1c00-4239-84bc-8bf1d5279787",
   "metadata": {},
   "outputs": [
    {
     "data": {
      "text/plain": [
       "(10, 4, 6918870)"
      ]
     },
     "execution_count": 21,
     "metadata": {},
     "output_type": "execute_result"
    }
   ],
   "source": [
    "split['test_sets'].shape"
   ]
  },
  {
   "cell_type": "code",
   "execution_count": 23,
   "id": "c9870e2a-2712-4f1e-ae63-074ee924c55f",
   "metadata": {},
   "outputs": [],
   "source": [
    "tix = np.reshape(split['test_sets'], (40,-1))\n"
   ]
  },
  {
   "cell_type": "code",
   "execution_count": 24,
   "id": "c116f553-9776-47b7-901e-65da62a2868f",
   "metadata": {},
   "outputs": [],
   "source": [
    "cols = [\"is_neutral\", \"rel_not_ppc\", \"rel_not_phospho\", \"rel_not_trans\", \"rel_not_complex\", \"rel_not_pathway\"]"
   ]
  },
  {
   "cell_type": "code",
   "execution_count": 27,
   "id": "8af7fb6f-5864-42af-809f-77663d28ac62",
   "metadata": {},
   "outputs": [
    {
     "name": "stdout",
     "output_type": "stream",
     "text": [
      "[1385 1675   67 2343  178 9135]\n",
      "[1118 1077   47 3851  242 8166]\n",
      "[ 1446  2016    38  3118   241 10867]\n",
      "[1410 1885   61 4267  196 9513]\n",
      "[1272 1548   44 4672  223 9292]\n",
      "[1302 1587   32 1835  164 8752]\n",
      "[1469 1586   70 4033  232 8363]\n",
      "[ 1200  1909    42  3001   231 11300]\n",
      "[1191 1577   79 3596  239 8658]\n",
      "[1286 1722   37 2944  234 8673]\n",
      "[1370 1793   51 4639  246 9869]\n",
      "[ 1340  1517    39  2240   170 10583]\n",
      "[1446 1845   72 4321  177 8860]\n",
      "[ 1472  1845    40  2882   153 10670]\n",
      "[ 1086  1278    34  3080   335 10073]\n",
      "[1312 1396   54 3183  209 8088]\n",
      "[1114 1566   44 4160  179 8322]\n",
      "[1024 1433   62 2597  187 9964]\n",
      "[1696 1972   59 3797  318 9260]\n",
      "[ 1440  1673    44  3108   217 10506]\n",
      "[1290 1915   56 3050  193 8702]\n",
      "[ 1541  1514    72  3856   186 11194]\n",
      "[1277 1691   43 3735  269 9687]\n",
      "[1263 1452   45 2854  241 8329]\n",
      "[1252 1914   45 3984  229 8982]\n",
      "[1280 1978   56 3132  265 8968]\n",
      "[ 1493  1208    51  3218   195 11098]\n",
      "[1320 1719   67 3168  188 8828]\n",
      "[1481 1558   62 4170  185 9061]\n",
      "[1441 1742   50 3512  233 9809]\n",
      "[1333 1599   46 2475  255 9137]\n",
      "[1061 1718   38 3463  244 9738]\n",
      "[1045 1490   56 2747  198 9183]\n",
      "[1426 1684   60 3772  235 9607]\n",
      "[1361 1662   43 2864  174 8930]\n",
      "[ 1526  1798    53  4145   245 10097]\n",
      "[1221 1664   44 4043  276 9593]\n",
      "[ 1482  1464    53  2720   155 13364]\n",
      "[1453 1672   32 3797  206 9122]\n",
      "[1155 1857   79 2919  233 6291]\n"
     ]
    }
   ],
   "source": [
    "for test_ix in tix:\n",
    "    sdf = df[test_ix]\n",
    "    print(np.array(np.sum(1-sdf[cols], axis=0)))"
   ]
  },
  {
   "cell_type": "code",
   "execution_count": null,
   "id": "170c3e00-68ca-4c70-abcf-38296e151d4c",
   "metadata": {},
   "outputs": [],
   "source": []
  }
 ],
 "metadata": {
  "kernelspec": {
   "display_name": "Python 3 (ipykernel)",
   "language": "python",
   "name": "python3"
  },
  "language_info": {
   "codemirror_mode": {
    "name": "ipython",
    "version": 3
   },
   "file_extension": ".py",
   "mimetype": "text/x-python",
   "name": "python",
   "nbconvert_exporter": "python",
   "pygments_lexer": "ipython3",
   "version": "3.8.10"
  }
 },
 "nbformat": 4,
 "nbformat_minor": 5
}
