{
 "cells": [
  {
   "cell_type": "code",
   "execution_count": 1,
   "id": "2fb1f56a-533b-4cf2-ab61-58f4fa457b85",
   "metadata": {},
   "outputs": [],
   "source": [
    "import numpy as np\n",
    "import pandas as pd"
   ]
  },
  {
   "cell_type": "code",
   "execution_count": 2,
   "id": "06842b47-5795-44d5-b333-211e06a5c605",
   "metadata": {},
   "outputs": [],
   "source": [
    "df = pd.read_csv(\"../generated-data/costanzo_gi\")"
   ]
  },
  {
   "cell_type": "code",
   "execution_count": 11,
   "id": "d3cedebe-38aa-4720-845c-e29031fd1116",
   "metadata": {},
   "outputs": [],
   "source": [
    "df['pair'] = [tuple(sorted((a,b))) for a,b in zip(df['a'],df['b'])]"
   ]
  },
  {
   "cell_type": "code",
   "execution_count": 12,
   "id": "170d2cd8-ae2b-4c67-88ec-b865cf9d766e",
   "metadata": {},
   "outputs": [
    {
     "data": {
      "text/plain": [
       "3084707"
      ]
     },
     "execution_count": 12,
     "metadata": {},
     "output_type": "execute_result"
    }
   ],
   "source": [
    "pairs = set(df[df['temp']==26]['pair'])\n",
    "len(pairs)"
   ]
  },
  {
   "cell_type": "code",
   "execution_count": 13,
   "id": "690ce999-b76a-4355-adec-3228d6473fb1",
   "metadata": {},
   "outputs": [
    {
     "data": {
      "text/plain": [
       "9431297"
      ]
     },
     "execution_count": 13,
     "metadata": {},
     "output_type": "execute_result"
    }
   ],
   "source": [
    "pairs = set(df[df['temp']==30]['pair'])\n",
    "len(pairs)"
   ]
  },
  {
   "cell_type": "code",
   "execution_count": 17,
   "id": "b494ead6-97b5-4121-b944-e7a215dc8c39",
   "metadata": {},
   "outputs": [],
   "source": [
    "tdf = pd.read_csv(\"../generated-data/task_yeast_tgi\")"
   ]
  },
  {
   "cell_type": "code",
   "execution_count": 18,
   "id": "4cacec79-efa8-4ab6-ad92-d514de8d5e14",
   "metadata": {},
   "outputs": [
    {
     "data": {
      "text/plain": [
       "(74463, 7)"
      ]
     },
     "execution_count": 18,
     "metadata": {},
     "output_type": "execute_result"
    }
   ],
   "source": [
    "tdf.shape"
   ]
  },
  {
   "cell_type": "code",
   "execution_count": null,
   "id": "6f7f37ed-91e4-4b1d-b505-2d3c518ed8af",
   "metadata": {},
   "outputs": [],
   "source": []
  }
 ],
 "metadata": {
  "kernelspec": {
   "display_name": "Python 3 (ipykernel)",
   "language": "python",
   "name": "python3"
  },
  "language_info": {
   "codemirror_mode": {
    "name": "ipython",
    "version": 3
   },
   "file_extension": ".py",
   "mimetype": "text/x-python",
   "name": "python",
   "nbconvert_exporter": "python",
   "pygments_lexer": "ipython3",
   "version": "3.8.10"
  }
 },
 "nbformat": 4,
 "nbformat_minor": 5
}
